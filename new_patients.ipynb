{
 "cells": [
  {
   "cell_type": "markdown",
   "metadata": {},
   "source": [
    "![Image of New Patient](img/logo.png)\n",
    "# New patient analysis  \n",
    "New patient visits used to be easy to distinguish from those with established patients. ... By CPT definition, a new patient is “one who has not received any professional services from the physician, or another physician of the same specialty who belongs to the same group practice, within the past three years.\n",
    "\n",
    "**To do:**\n",
    "1. Load and examine the data set\n",
    "1. Clean Data\n",
    "1. Filter CPT Code Range: 99201–99205\n",
    "1. Number of New Patients by E/M codes\n",
    "1. Visualize New Patients \n",
    "1. Crosstab by gender\n",
    "1. New patients revenues\n",
    "\n",
    "Let's begin by importing all required libraries"
   ]
  },
  {
   "cell_type": "code",
   "execution_count": null,
   "metadata": {},
   "outputs": [],
   "source": [
    "import numpy as np\n",
    "import pandas as pd\n",
    "import matplotlib.pyplot as plt\n",
    "\n",
    "from datetime import datetime\n",
    "import csv\n",
    "\n",
    "%matplotlib inline"
   ]
  },
  {
   "cell_type": "markdown",
   "metadata": {},
   "source": [
    "## Load and examine the data set\n",
    "Let's get started. The code shown in the cell below loads the data from the .csv file. Some minimal clean up is performed on the data. \n",
    "\n",
    "Execute the code in this cell to load the data into your notebook. **Make sure you have the .csv file in your working directory!**\n"
   ]
  },
  {
   "cell_type": "code",
   "execution_count": null,
   "metadata": {},
   "outputs": [],
   "source": [
    "%%time\n",
    "url = 'claimdetails2008.csv'\n",
    "data = pd.read_csv(url, encoding = \"latin\", low_memory=False, index_col=0)\n",
    "\n",
    "# Convert date string columns in DataFrames with the .to_datetime() method \n",
    "data[\"dos\"] = pd.to_datetime(data[\"dos\"])\n",
    "data[\"dob\"] = pd.to_datetime(data[\"dob\"])\n",
    "\n",
    "# Creat year and month series column in a dataframe\n",
    "data['year'] = pd.DatetimeIndex(data['dos']).year\n",
    "data['month'] = pd.DatetimeIndex(data['dos']).month\n",
    "data['day'] = pd.DatetimeIndex(data['dos']).day"
   ]
  },
  {
   "cell_type": "code",
   "execution_count": null,
   "metadata": {},
   "outputs": [],
   "source": [
    "# # # patient file\n",
    "# url = 'pat.csv'\n",
    "# user_cols = ['fileno', 'city','state', 'zipcode']\n",
    "# pat = pd.read_csv(url, encoding = \"ISO-8859-1\", low_memory=False, usecols=user_cols)\n",
    "# # Join with patient file\n",
    "# data = data.set_index('patientid').join(pat.set_index('fileno'))\n",
    "# data.reset_index(inplace=True)\n",
    "# data.to_csv('cd.csv')"
   ]
  },
  {
   "cell_type": "markdown",
   "metadata": {},
   "source": [
    "### Columns Description:\n",
    "1. claimid: Claim identification number\n",
    "1. claimline: Claim line number\n",
    "1. status: Claim status\n",
    "1. dos: Data of service\n",
    "1. cpt_code: CPT Code\n",
    "1. cpt_desc: CPT Description\n",
    "1. billedamount: Billed Amount\n",
    "1. paidamount: Paid Amount by Insurance\n",
    "1. patientid: Patient Identification number \n",
    "1. dob: Patient's date of birth\n",
    "1. sex: Patient's gender\n",
    "1. provider: Servicing Provider\n",
    "1. year: Year of services\n",
    "1. month: Month of Service\n",
    "1. day: Day of service\n",
    "1. insurance\n",
    "1. city: Patient city\n",
    "1. state: Patient State\n",
    "1. zipcode: Patient zipcode"
   ]
  },
  {
   "cell_type": "markdown",
   "metadata": {},
   "source": [
    "Using the Pandas head method let's have a first look at the columns in this data set."
   ]
  },
  {
   "cell_type": "code",
   "execution_count": null,
   "metadata": {},
   "outputs": [],
   "source": [
    "data.head()"
   ]
  },
  {
   "cell_type": "code",
   "execution_count": null,
   "metadata": {},
   "outputs": [],
   "source": [
    "data.info()"
   ]
  },
  {
   "cell_type": "markdown",
   "metadata": {},
   "source": [
    "### Data clean up"
   ]
  },
  {
   "cell_type": "code",
   "execution_count": null,
   "metadata": {},
   "outputs": [],
   "source": [
    "# examin the empty rows\n",
    "empty_rows = data[data.isnull().T.any().T]\n",
    "# Diplay first 5 rows\n",
    "empty_rows.head()"
   ]
  },
  {
   "cell_type": "code",
   "execution_count": null,
   "metadata": {},
   "outputs": [],
   "source": [
    "# Delete rows with empty values in the data subset\n",
    "data.dropna(subset=['provider', 'cpt_code', 'patientid', 'sex', 'dob', 'insurance'], how='any', inplace = True)"
   ]
  },
  {
   "cell_type": "code",
   "execution_count": null,
   "metadata": {},
   "outputs": [],
   "source": [
    "data.head()"
   ]
  },
  {
   "cell_type": "code",
   "execution_count": null,
   "metadata": {},
   "outputs": [],
   "source": [
    "data.info()"
   ]
  },
  {
   "cell_type": "markdown",
   "metadata": {},
   "source": [
    "## Style function"
   ]
  },
  {
   "cell_type": "code",
   "execution_count": null,
   "metadata": {},
   "outputs": [],
   "source": [
    "def color_negative(val):\n",
    "    \"\"\"\n",
    "    Takes a scalar and returns a string with\n",
    "    the css property `'color: darkorange'` for negative\n",
    "    strings, black otherwise.\n",
    "    \"\"\"\n",
    "    color = 'darkorange' if val > 0 else 'black'\n",
    "    return 'color: %s' % color\n",
    "\n",
    "# s = df.style.applymap(color_negative_red)\n",
    "# s"
   ]
  },
  {
   "cell_type": "markdown",
   "metadata": {},
   "source": [
    "### New patients Analysis\n",
    "** Filter CPT Code Range: 99201–99205**"
   ]
  },
  {
   "cell_type": "code",
   "execution_count": null,
   "metadata": {},
   "outputs": [],
   "source": [
    "# load claims with E/M codes\n",
    "df_new_patients = data[(data.cpt_code >= '99201') & (data.cpt_code<='99205') & (data.provider =='PROVIDER 1')]"
   ]
  },
  {
   "cell_type": "markdown",
   "metadata": {},
   "source": [
    "**Number of New Patients by E/M codes**"
   ]
  },
  {
   "cell_type": "code",
   "execution_count": null,
   "metadata": {},
   "outputs": [],
   "source": [
    "# Group data\n",
    "df = df_new_patients.groupby('cpt_code')['month'].value_counts().unstack().fillna(0)\n",
    "\n",
    "# call style function\n",
    "df.style.applymap(color_negative)"
   ]
  },
  {
   "cell_type": "markdown",
   "metadata": {},
   "source": [
    "### Crosstab \n",
    "**Number of New Patients by E/M codes**"
   ]
  },
  {
   "cell_type": "code",
   "execution_count": null,
   "metadata": {},
   "outputs": [],
   "source": [
    "df_cross = pd.crosstab(df_new_patients[\"cpt_code\"],df_new_patients[\"month\"],margins=True)\n",
    "# call style function\n",
    "df_cross.style.applymap(color_negative)"
   ]
  },
  {
   "cell_type": "markdown",
   "metadata": {},
   "source": [
    "### Plot line chart"
   ]
  },
  {
   "cell_type": "code",
   "execution_count": null,
   "metadata": {},
   "outputs": [],
   "source": [
    "df_visit_month = df_new_patients.groupby(['month'])[[\"cpt_code\"]].count()\n",
    "\n",
    "df_visit_month.plot(kind = 'line', \n",
    "            color='green', \n",
    "            grid=True, \n",
    "            figsize=(12,6),\n",
    "            use_index =True,\n",
    "            fontsize=9,\n",
    "            sort_columns = True,\n",
    "            rot=0, \n",
    "            marker='o', \n",
    "            linestyle='dashed',\n",
    "            linewidth=.5, \n",
    "            markersize=12,\n",
    "            alpha=0.4)\n",
    "\n",
    "#  Definition of tick_val and tick_lab\n",
    "tick_val = [1,2,3,4,5,6,7,8,9,10,11,12]\n",
    "tick_lab = ['Jan','Feb','March','April','May','June','July','Aug','Sept', 'Oct', 'Nov', 'Dec']\n",
    "plt.xticks(tick_val, tick_lab)\n",
    "\n",
    "plt.xlabel('Date of service') # Label x axis\n",
    "plt.ylabel('Visits') # Label y axis\n",
    "plt.title('New patient Analysis')\n",
    "plt.legend(['Visit'])\n",
    "plt.show()"
   ]
  },
  {
   "cell_type": "markdown",
   "metadata": {},
   "source": [
    "### Crosstab by gender"
   ]
  },
  {
   "cell_type": "code",
   "execution_count": null,
   "metadata": {},
   "outputs": [],
   "source": [
    "df_sex = pd.crosstab(df_new_patients[\"month\"],df_new_patients[\"sex\"],margins=False)"
   ]
  },
  {
   "cell_type": "code",
   "execution_count": null,
   "metadata": {},
   "outputs": [],
   "source": [
    "df_sex.plot(kind = 'bar',\n",
    "                     grid=True, \n",
    "                     figsize=(12,6),\n",
    "                     use_index =True,\n",
    "                     fontsize=9,\n",
    "                     sort_columns = True,\n",
    "                    alpha=0.4)\n",
    "\n",
    "#  Definition of tick_val and tick_lab\n",
    "tick_val = [1,2,3,4,5,6,7,8,9,10,11,12]\n",
    "tick_lab = ['Jan','Feb','March','April','May','June','July','Aug','Sept', 'Oct', 'Nov', 'Dec']\n",
    "plt.xticks(tick_val, tick_lab)\n",
    "\n",
    "plt.xlabel('Month of service') # Label x axis\n",
    "plt.ylabel('Visit Count') # Label y axis\n",
    "plt.title('New Patients by Gender')\n",
    "plt.show()"
   ]
  },
  {
   "cell_type": "markdown",
   "metadata": {},
   "source": [
    "### New patients revenues"
   ]
  },
  {
   "cell_type": "code",
   "execution_count": 747,
   "metadata": {},
   "outputs": [
    {
     "data": {
      "image/png": "[encoded data removed]",
      "text/plain": [
       "<Figure size 864x432 with 1 Axes>"
      ]
     },
     "metadata": {},
     "output_type": "display_data"
    }
   ],
   "source": [
    "df_revenues = df_new_patients.groupby('month')['paidamount'].sum()\n",
    "df_revenues.plot(kind = 'bar', \n",
    "            grid=True, \n",
    "            figsize=(12,6),\n",
    "            use_index =True,\n",
    "            fontsize=9,\n",
    "            sort_columns = True,\n",
    "            alpha=0.4)\n",
    "\n",
    "#  Definition of tick_val and tick_lab\n",
    "tick_val = [1,2,3,4,5,6,7,8,9,10,11,12]\n",
    "tick_lab = ['Jan','Feb','March','April','May','June','July','Aug','Sept', 'Oct', 'Nov', 'Dec']\n",
    "plt.xticks(tick_val, tick_lab)\n",
    "\n",
    "plt.xlabel('Month of service') # Label x axis\n",
    "plt.ylabel('Amount') # Label y axis\n",
    "plt.title('New patient Analysis')\n",
    "plt.legend(['Revenues'])\n",
    "plt.show()"
   ]
  },
  {
   "cell_type": "markdown",
   "metadata": {},
   "source": [
    "### end of report"
   ]
  }
 ],
 "metadata": {
  "kernelspec": {
   "display_name": "Python 3",
   "language": "python",
   "name": "python3"
  },
  "language_info": {
   "codemirror_mode": {
    "name": "ipython",
    "version": 3
   },
   "file_extension": ".py",
   "mimetype": "text/x-python",
   "name": "python",
   "nbconvert_exporter": "python",
   "pygments_lexer": "ipython3",
   "version": "3.6.5"
  }
 },
 "nbformat": 4,
 "nbformat_minor": 2
}
